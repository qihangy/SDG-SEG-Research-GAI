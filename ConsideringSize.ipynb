{
 "cells": [
  {
   "cell_type": "code",
   "execution_count": null,
   "metadata": {
    "collapsed": true
   },
   "outputs": [],
   "source": [
    "mktcap = pd.read_csv('MktCap_bmpf_crsp.csv')\n",
    "mktcap = mktcap.drop_duplicates(subset=['TICKER'], keep = 'last')\n",
    "mktcap['mktcap'] = abs(mktcap['PRC']*mktcap['SHROUT'])\n",
    "len(mktcap.TICKER.unique()) #how many tickers?"
   ]
  },
  {
   "cell_type": "code",
   "execution_count": null,
   "metadata": {
    "collapsed": true
   },
   "outputs": [],
   "source": [
    "mktcap_merged = pd.merge(t18_subset_overall, mktcap, left_on = ['code'], right_on = ['TICKER']) ##merged with the previous overall df\n",
    "len(mktcap_merged.code.unique()) #how many selected now?"
   ]
  },
  {
   "cell_type": "code",
   "execution_count": null,
   "metadata": {
    "collapsed": true
   },
   "outputs": [],
   "source": [
    "mktcap_merged.mktcap.describe(percentiles = [0.1, 0.2, 0.3, 0.4, 0.5, 0.6, 0.7, 0.8, 0.9]) #### screenshot this"
   ]
  },
  {
   "cell_type": "code",
   "execution_count": null,
   "metadata": {
    "collapsed": true
   },
   "outputs": [],
   "source": [
    "upperlimit = mktcap_merged.mktcap.describe(percentiles = [0.1, 0.2, 0.3, 0.4, 0.5, 0.6, 0.7, 0.8, 0.9])['80%']\n",
    "lowerlimit = mktcap_merged.mktcap.describe(percentiles = [0.1, 0.2, 0.3, 0.4, 0.5, 0.6, 0.7, 0.8, 0.9])['50%']"
   ]
  },
  {
   "cell_type": "code",
   "execution_count": null,
   "metadata": {
    "collapsed": true
   },
   "outputs": [],
   "source": [
    "# A function to assign a size bucket\n",
    "def label_group (row):\n",
    "    if row['mktcap'] < lowerlimit:\n",
    "        return 'Small'\n",
    "    if (row['mktcap'] >= lowerlimit) & (row['mktcap'] < upperlimit):\n",
    "        return 'Medium'\n",
    "    if row['mktcap'] > upperlimit:\n",
    "        return 'Large'"
   ]
  },
  {
   "cell_type": "code",
   "execution_count": null,
   "metadata": {
    "collapsed": true
   },
   "outputs": [],
   "source": [
    "mktcap_merged['Size'] = mktcap_merged.apply (lambda row: label_group (row),axis=1)\n",
    "mktcap_merged.head()"
   ]
  },
  {
   "cell_type": "code",
   "execution_count": null,
   "metadata": {
    "collapsed": true
   },
   "outputs": [],
   "source": [
    "mktcap_merged_subset = mktcap_merged[['code', 'date_x', 'tone', 'mktcap', 'Size']]\n",
    "mktcap_merged_subset.columns = ['code', 'date', 'tone', 'mktcap', 'Size']"
   ]
  },
  {
   "cell_type": "code",
   "execution_count": null,
   "metadata": {
    "collapsed": true
   },
   "outputs": [],
   "source": [
    "mktcap_merged_bySize = [] \n",
    "\n",
    "for size in ['Small', 'Medium', 'Large']:\n",
    "    subset_bySize = mktcap_merged_subset[mktcap_merged_subset['Size'] == size]\n",
    "    mktcap_merged_bySize.append(subset_bySize)"
   ]
  },
  {
   "cell_type": "code",
   "execution_count": null,
   "metadata": {
    "collapsed": true
   },
   "outputs": [],
   "source": [
    "#assign them to each df\n",
    "small = mktcap_merged_bySize[0]\n",
    "medium = mktcap_merged_bySize[1]\n",
    "large = mktcap_merged_bySize[2] "
   ]
  },
  {
   "cell_type": "code",
   "execution_count": null,
   "metadata": {
    "collapsed": true
   },
   "outputs": [],
   "source": [
    "large.head()"
   ]
  },
  {
   "cell_type": "code",
   "execution_count": null,
   "metadata": {
    "collapsed": true
   },
   "outputs": [],
   "source": [
    "####apply the new fn"
   ]
  }
 ],
 "metadata": {
  "kernelspec": {
   "display_name": "Python 3",
   "language": "python",
   "name": "python3"
  },
  "language_info": {
   "codemirror_mode": {
    "name": "ipython",
    "version": 3
   },
   "file_extension": ".py",
   "mimetype": "text/x-python",
   "name": "python",
   "nbconvert_exporter": "python",
   "pygments_lexer": "ipython3",
   "version": "3.6.8"
  }
 },
 "nbformat": 4,
 "nbformat_minor": 2
}
